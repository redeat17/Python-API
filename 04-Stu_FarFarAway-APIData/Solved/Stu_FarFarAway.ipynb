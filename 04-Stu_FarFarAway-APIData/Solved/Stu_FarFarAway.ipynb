{
 "cells": [
  {
   "cell_type": "code",
   "execution_count": 4,
   "metadata": {},
   "outputs": [],
   "source": [
    "# Dependencies\n",
    "import requests\n",
    "import json"
   ]
  },
  {
   "cell_type": "code",
   "execution_count": 5,
   "metadata": {},
   "outputs": [],
   "source": [
    "# URL for GET requests to retrieve Star Wars character data\n",
    "base_url = \"https://swapi.dev/api/people/\""
   ]
  },
  {
   "cell_type": "code",
   "execution_count": 7,
   "metadata": {},
   "outputs": [
    {
     "name": "stdout",
     "output_type": "stream",
     "text": [
      "https://swapi.dev/api/people/\n",
      "https://swapi.dev/api/people/\n",
      "{\n",
      "    \"count\": 82,\n",
      "    \"next\": \"http://swapi.dev/api/people/?page=2\",\n",
      "    \"previous\": null,\n",
      "    \"results\": [\n",
      "        {\n",
      "            \"birth_year\": \"19BBY\",\n",
      "            \"created\": \"2014-12-09T13:50:51.644000Z\",\n",
      "            \"edited\": \"2014-12-20T21:17:56.891000Z\",\n",
      "            \"eye_color\": \"blue\",\n",
      "            \"films\": [\n",
      "                \"http://swapi.dev/api/films/1/\",\n",
      "                \"http://swapi.dev/api/films/2/\",\n",
      "                \"http://swapi.dev/api/films/3/\",\n",
      "                \"http://swapi.dev/api/films/6/\"\n",
      "            ],\n",
      "            \"gender\": \"male\",\n",
      "            \"hair_color\": \"blond\",\n",
      "            \"height\": \"172\",\n",
      "            \"homeworld\": \"http://swapi.dev/api/planets/1/\",\n",
      "            \"mass\": \"77\",\n",
      "            \"name\": \"Luke Skywalker\",\n",
      "            \"skin_color\": \"fair\",\n",
      "            \"species\": [],\n",
      "            \"starships\": [\n",
      "                \"http://swapi.dev/api/starships/12/\",\n",
      "                \"http://swapi.dev/api/starships/22/\"\n",
      "            ],\n",
      "            \"url\": \"http://swapi.dev/api/people/1/\",\n",
      "            \"vehicles\": [\n",
      "                \"http://swapi.dev/api/vehicles/14/\",\n",
      "                \"http://swapi.dev/api/vehicles/30/\"\n",
      "            ]\n",
      "        },\n",
      "        {\n",
      "            \"birth_year\": \"112BBY\",\n",
      "            \"created\": \"2014-12-10T15:10:51.357000Z\",\n",
      "            \"edited\": \"2014-12-20T21:17:50.309000Z\",\n",
      "            \"eye_color\": \"yellow\",\n",
      "            \"films\": [\n",
      "                \"http://swapi.dev/api/films/1/\",\n",
      "                \"http://swapi.dev/api/films/2/\",\n",
      "                \"http://swapi.dev/api/films/3/\",\n",
      "                \"http://swapi.dev/api/films/4/\",\n",
      "                \"http://swapi.dev/api/films/5/\",\n",
      "                \"http://swapi.dev/api/films/6/\"\n",
      "            ],\n",
      "            \"gender\": \"n/a\",\n",
      "            \"hair_color\": \"n/a\",\n",
      "            \"height\": \"167\",\n",
      "            \"homeworld\": \"http://swapi.dev/api/planets/1/\",\n",
      "            \"mass\": \"75\",\n",
      "            \"name\": \"C-3PO\",\n",
      "            \"skin_color\": \"gold\",\n",
      "            \"species\": [\n",
      "                \"http://swapi.dev/api/species/2/\"\n",
      "            ],\n",
      "            \"starships\": [],\n",
      "            \"url\": \"http://swapi.dev/api/people/2/\",\n",
      "            \"vehicles\": []\n",
      "        },\n",
      "        {\n",
      "            \"birth_year\": \"33BBY\",\n",
      "            \"created\": \"2014-12-10T15:11:50.376000Z\",\n",
      "            \"edited\": \"2014-12-20T21:17:50.311000Z\",\n",
      "            \"eye_color\": \"red\",\n",
      "            \"films\": [\n",
      "                \"http://swapi.dev/api/films/1/\",\n",
      "                \"http://swapi.dev/api/films/2/\",\n",
      "                \"http://swapi.dev/api/films/3/\",\n",
      "                \"http://swapi.dev/api/films/4/\",\n",
      "                \"http://swapi.dev/api/films/5/\",\n",
      "                \"http://swapi.dev/api/films/6/\"\n",
      "            ],\n",
      "            \"gender\": \"n/a\",\n",
      "            \"hair_color\": \"n/a\",\n",
      "            \"height\": \"96\",\n",
      "            \"homeworld\": \"http://swapi.dev/api/planets/8/\",\n",
      "            \"mass\": \"32\",\n",
      "            \"name\": \"R2-D2\",\n",
      "            \"skin_color\": \"white, blue\",\n",
      "            \"species\": [\n",
      "                \"http://swapi.dev/api/species/2/\"\n",
      "            ],\n",
      "            \"starships\": [],\n",
      "            \"url\": \"http://swapi.dev/api/people/3/\",\n",
      "            \"vehicles\": []\n",
      "        },\n",
      "        {\n",
      "            \"birth_year\": \"41.9BBY\",\n",
      "            \"created\": \"2014-12-10T15:18:20.704000Z\",\n",
      "            \"edited\": \"2014-12-20T21:17:50.313000Z\",\n",
      "            \"eye_color\": \"yellow\",\n",
      "            \"films\": [\n",
      "                \"http://swapi.dev/api/films/1/\",\n",
      "                \"http://swapi.dev/api/films/2/\",\n",
      "                \"http://swapi.dev/api/films/3/\",\n",
      "                \"http://swapi.dev/api/films/6/\"\n",
      "            ],\n",
      "            \"gender\": \"male\",\n",
      "            \"hair_color\": \"none\",\n",
      "            \"height\": \"202\",\n",
      "            \"homeworld\": \"http://swapi.dev/api/planets/1/\",\n",
      "            \"mass\": \"136\",\n",
      "            \"name\": \"Darth Vader\",\n",
      "            \"skin_color\": \"white\",\n",
      "            \"species\": [],\n",
      "            \"starships\": [\n",
      "                \"http://swapi.dev/api/starships/13/\"\n",
      "            ],\n",
      "            \"url\": \"http://swapi.dev/api/people/4/\",\n",
      "            \"vehicles\": []\n",
      "        },\n",
      "        {\n",
      "            \"birth_year\": \"19BBY\",\n",
      "            \"created\": \"2014-12-10T15:20:09.791000Z\",\n",
      "            \"edited\": \"2014-12-20T21:17:50.315000Z\",\n",
      "            \"eye_color\": \"brown\",\n",
      "            \"films\": [\n",
      "                \"http://swapi.dev/api/films/1/\",\n",
      "                \"http://swapi.dev/api/films/2/\",\n",
      "                \"http://swapi.dev/api/films/3/\",\n",
      "                \"http://swapi.dev/api/films/6/\"\n",
      "            ],\n",
      "            \"gender\": \"female\",\n",
      "            \"hair_color\": \"brown\",\n",
      "            \"height\": \"150\",\n",
      "            \"homeworld\": \"http://swapi.dev/api/planets/2/\",\n",
      "            \"mass\": \"49\",\n",
      "            \"name\": \"Leia Organa\",\n",
      "            \"skin_color\": \"light\",\n",
      "            \"species\": [],\n",
      "            \"starships\": [],\n",
      "            \"url\": \"http://swapi.dev/api/people/5/\",\n",
      "            \"vehicles\": [\n",
      "                \"http://swapi.dev/api/vehicles/30/\"\n",
      "            ]\n",
      "        },\n",
      "        {\n",
      "            \"birth_year\": \"52BBY\",\n",
      "            \"created\": \"2014-12-10T15:52:14.024000Z\",\n",
      "            \"edited\": \"2014-12-20T21:17:50.317000Z\",\n",
      "            \"eye_color\": \"blue\",\n",
      "            \"films\": [\n",
      "                \"http://swapi.dev/api/films/1/\",\n",
      "                \"http://swapi.dev/api/films/5/\",\n",
      "                \"http://swapi.dev/api/films/6/\"\n",
      "            ],\n",
      "            \"gender\": \"male\",\n",
      "            \"hair_color\": \"brown, grey\",\n",
      "            \"height\": \"178\",\n",
      "            \"homeworld\": \"http://swapi.dev/api/planets/1/\",\n",
      "            \"mass\": \"120\",\n",
      "            \"name\": \"Owen Lars\",\n",
      "            \"skin_color\": \"light\",\n",
      "            \"species\": [],\n",
      "            \"starships\": [],\n",
      "            \"url\": \"http://swapi.dev/api/people/6/\",\n",
      "            \"vehicles\": []\n",
      "        },\n",
      "        {\n",
      "            \"birth_year\": \"47BBY\",\n",
      "            \"created\": \"2014-12-10T15:53:41.121000Z\",\n",
      "            \"edited\": \"2014-12-20T21:17:50.319000Z\",\n",
      "            \"eye_color\": \"blue\",\n",
      "            \"films\": [\n",
      "                \"http://swapi.dev/api/films/1/\",\n",
      "                \"http://swapi.dev/api/films/5/\",\n",
      "                \"http://swapi.dev/api/films/6/\"\n",
      "            ],\n",
      "            \"gender\": \"female\",\n",
      "            \"hair_color\": \"brown\",\n",
      "            \"height\": \"165\",\n",
      "            \"homeworld\": \"http://swapi.dev/api/planets/1/\",\n",
      "            \"mass\": \"75\",\n",
      "            \"name\": \"Beru Whitesun lars\",\n",
      "            \"skin_color\": \"light\",\n",
      "            \"species\": [],\n",
      "            \"starships\": [],\n",
      "            \"url\": \"http://swapi.dev/api/people/7/\",\n",
      "            \"vehicles\": []\n",
      "        },\n",
      "        {\n",
      "            \"birth_year\": \"unknown\",\n",
      "            \"created\": \"2014-12-10T15:57:50.959000Z\",\n",
      "            \"edited\": \"2014-12-20T21:17:50.321000Z\",\n",
      "            \"eye_color\": \"red\",\n",
      "            \"films\": [\n",
      "                \"http://swapi.dev/api/films/1/\"\n",
      "            ],\n",
      "            \"gender\": \"n/a\",\n",
      "            \"hair_color\": \"n/a\",\n",
      "            \"height\": \"97\",\n",
      "            \"homeworld\": \"http://swapi.dev/api/planets/1/\",\n",
      "            \"mass\": \"32\",\n",
      "            \"name\": \"R5-D4\",\n",
      "            \"skin_color\": \"white, red\",\n",
      "            \"species\": [\n",
      "                \"http://swapi.dev/api/species/2/\"\n",
      "            ],\n",
      "            \"starships\": [],\n",
      "            \"url\": \"http://swapi.dev/api/people/8/\",\n",
      "            \"vehicles\": []\n",
      "        },\n",
      "        {\n",
      "            \"birth_year\": \"24BBY\",\n",
      "            \"created\": \"2014-12-10T15:59:50.509000Z\",\n",
      "            \"edited\": \"2014-12-20T21:17:50.323000Z\",\n",
      "            \"eye_color\": \"brown\",\n",
      "            \"films\": [\n",
      "                \"http://swapi.dev/api/films/1/\"\n",
      "            ],\n",
      "            \"gender\": \"male\",\n",
      "            \"hair_color\": \"black\",\n",
      "            \"height\": \"183\",\n",
      "            \"homeworld\": \"http://swapi.dev/api/planets/1/\",\n",
      "            \"mass\": \"84\",\n",
      "            \"name\": \"Biggs Darklighter\",\n",
      "            \"skin_color\": \"light\",\n",
      "            \"species\": [],\n",
      "            \"starships\": [\n",
      "                \"http://swapi.dev/api/starships/12/\"\n",
      "            ],\n",
      "            \"url\": \"http://swapi.dev/api/people/9/\",\n",
      "            \"vehicles\": []\n",
      "        },\n",
      "        {\n",
      "            \"birth_year\": \"57BBY\",\n",
      "            \"created\": \"2014-12-10T16:16:29.192000Z\",\n",
      "            \"edited\": \"2014-12-20T21:17:50.325000Z\",\n",
      "            \"eye_color\": \"blue-gray\",\n",
      "            \"films\": [\n",
      "                \"http://swapi.dev/api/films/1/\",\n",
      "                \"http://swapi.dev/api/films/2/\",\n",
      "                \"http://swapi.dev/api/films/3/\",\n",
      "                \"http://swapi.dev/api/films/4/\",\n",
      "                \"http://swapi.dev/api/films/5/\",\n",
      "                \"http://swapi.dev/api/films/6/\"\n",
      "            ],\n",
      "            \"gender\": \"male\",\n",
      "            \"hair_color\": \"auburn, white\",\n",
      "            \"height\": \"182\",\n",
      "            \"homeworld\": \"http://swapi.dev/api/planets/20/\",\n",
      "            \"mass\": \"77\",\n",
      "            \"name\": \"Obi-Wan Kenobi\",\n",
      "            \"skin_color\": \"fair\",\n",
      "            \"species\": [],\n",
      "            \"starships\": [\n",
      "                \"http://swapi.dev/api/starships/48/\",\n",
      "                \"http://swapi.dev/api/starships/59/\",\n",
      "                \"http://swapi.dev/api/starships/64/\",\n",
      "                \"http://swapi.dev/api/starships/65/\",\n",
      "                \"http://swapi.dev/api/starships/74/\"\n",
      "            ],\n",
      "            \"url\": \"http://swapi.dev/api/people/10/\",\n",
      "            \"vehicles\": [\n",
      "                \"http://swapi.dev/api/vehicles/38/\"\n",
      "            ]\n",
      "        }\n",
      "    ]\n",
      "}\n"
     ]
    }
   ],
   "source": [
    "# Create a url with a specific character id\n",
    "url = base_url\n",
    "print(url)\n",
    "# Perform a get request for this character\n",
    "response = requests.get(url)\n",
    "print(response.url)\n",
    "# Storing the JSON response within a variable\n",
    "data = response.json()\n",
    "# Use json.dumps to print the json\n",
    "print(json.dumps(data, indent=4, sort_keys=True))"
   ]
  },
  {
   "cell_type": "code",
   "execution_count": 9,
   "metadata": {},
   "outputs": [
    {
     "name": "stdout",
     "output_type": "stream",
     "text": [
      "https://swapi.dev/api/people/4\n"
     ]
    }
   ],
   "source": [
    "# Create a url with a specific character id\n",
    "character_id = '4'\n",
    "url = base_url + character_id\n",
    "print(url)"
   ]
  },
  {
   "cell_type": "code",
   "execution_count": 10,
   "metadata": {},
   "outputs": [
    {
     "name": "stdout",
     "output_type": "stream",
     "text": [
      "https://swapi.dev/api/people/4/\n"
     ]
    }
   ],
   "source": [
    "# Perform a get request for this character\n",
    "response = requests.get(url)\n",
    "print(response.url)"
   ]
  },
  {
   "cell_type": "code",
   "execution_count": 13,
   "metadata": {
    "scrolled": true
   },
   "outputs": [
    {
     "name": "stdout",
     "output_type": "stream",
     "text": [
      "{\n",
      "    \"birth_year\": \"41.9BBY\",\n",
      "    \"created\": \"2014-12-10T15:18:20.704000Z\",\n",
      "    \"edited\": \"2014-12-20T21:17:50.313000Z\",\n",
      "    \"eye_color\": \"yellow\",\n",
      "    \"films\": [\n",
      "        \"http://swapi.dev/api/films/1/\",\n",
      "        \"http://swapi.dev/api/films/2/\",\n",
      "        \"http://swapi.dev/api/films/3/\",\n",
      "        \"http://swapi.dev/api/films/6/\"\n",
      "    ],\n",
      "    \"gender\": \"male\",\n",
      "    \"hair_color\": \"none\",\n",
      "    \"height\": \"202\",\n",
      "    \"homeworld\": \"http://swapi.dev/api/planets/1/\",\n",
      "    \"mass\": \"136\",\n",
      "    \"name\": \"Darth Vader\",\n",
      "    \"skin_color\": \"white\",\n",
      "    \"species\": [],\n",
      "    \"starships\": [\n",
      "        \"http://swapi.dev/api/starships/13/\"\n",
      "    ],\n",
      "    \"url\": \"http://swapi.dev/api/people/4/\",\n",
      "    \"vehicles\": []\n",
      "}\n"
     ]
    }
   ],
   "source": [
    "# Storing the JSON response within a variable\n",
    "data = response.json()\n",
    "# Use json.dumps to print the json\n",
    "print(json.dumps(data, indent=4, sort_keys=True))"
   ]
  },
  {
   "cell_type": "code",
   "execution_count": 14,
   "metadata": {},
   "outputs": [
    {
     "name": "stdout",
     "output_type": "stream",
     "text": [
      "Darth Vader\n"
     ]
    }
   ],
   "source": [
    "# Print the name of the character retrieved\n",
    "character_name = data[\"name\"]\n",
    "print(character_name)"
   ]
  },
  {
   "cell_type": "code",
   "execution_count": 15,
   "metadata": {},
   "outputs": [
    {
     "name": "stdout",
     "output_type": "stream",
     "text": [
      "4\n"
     ]
    }
   ],
   "source": [
    "# Print the number of films that they were in (hint: use len())\n",
    "film_number = len(data[\"films\"])\n",
    "print(film_number)"
   ]
  },
  {
   "cell_type": "code",
   "execution_count": 19,
   "metadata": {},
   "outputs": [
    {
     "data": {
      "text/plain": [
       "{'name': 'TIE Advanced x1',\n",
       " 'model': 'Twin Ion Engine Advanced x1',\n",
       " 'manufacturer': 'Sienar Fleet Systems',\n",
       " 'cost_in_credits': 'unknown',\n",
       " 'length': '9.2',\n",
       " 'max_atmosphering_speed': '1200',\n",
       " 'crew': '1',\n",
       " 'passengers': '0',\n",
       " 'cargo_capacity': '150',\n",
       " 'consumables': '5 days',\n",
       " 'hyperdrive_rating': '1.0',\n",
       " 'MGLT': '105',\n",
       " 'starship_class': 'Starfighter',\n",
       " 'pilots': ['http://swapi.dev/api/people/4/'],\n",
       " 'films': ['http://swapi.dev/api/films/1/'],\n",
       " 'created': '2014-12-12T11:21:32.991000Z',\n",
       " 'edited': '2014-12-20T21:23:49.889000Z',\n",
       " 'url': 'http://swapi.dev/api/starships/13/'}"
      ]
     },
     "execution_count": 19,
     "metadata": {},
     "output_type": "execute_result"
    }
   ],
   "source": [
    "# Request the starships URI found in the starships property of the\n",
    "# previously retreived json, then use the response to figure out what this \n",
    "# character's first starship was\n",
    "first_ship_url = data[\"starships\"][0]\n",
    "ship_response = requests.get(first_ship_url).json()\n",
    "ship_response"
   ]
  },
  {
   "cell_type": "code",
   "execution_count": 20,
   "metadata": {},
   "outputs": [
    {
     "name": "stdout",
     "output_type": "stream",
     "text": [
      "Their first ship: TIE Advanced x1\n"
     ]
    }
   ],
   "source": [
    "# Print the name of the character's first starship\n",
    "first_ship = ship_response[\"name\"]\n",
    "print(f\"Their first ship: {first_ship}\")"
   ]
  },
  {
   "cell_type": "code",
   "execution_count": 21,
   "metadata": {},
   "outputs": [
    {
     "name": "stdout",
     "output_type": "stream",
     "text": [
      "Darth Vader was in:\n",
      "['A New Hope', 'The Empire Strikes Back', 'Return of the Jedi', 'Revenge of the Sith']\n"
     ]
    }
   ],
   "source": [
    "# BONUS\n",
    "films = []\n",
    "\n",
    "for film in data['films']:\n",
    "    cur_film = requests.get(film).json()\n",
    "    film_title = cur_film[\"title\"]\n",
    "    films.append(film_title)\n",
    "    \n",
    "print(f\"{character_name} was in:\")\n",
    "print(films)"
   ]
  }
 ],
 "metadata": {
  "kernelspec": {
   "display_name": "Python 3",
   "language": "python",
   "name": "python3"
  },
  "language_info": {
   "codemirror_mode": {
    "name": "ipython",
    "version": 3
   },
   "file_extension": ".py",
   "mimetype": "text/x-python",
   "name": "python",
   "nbconvert_exporter": "python",
   "pygments_lexer": "ipython3",
   "version": "3.7.4"
  },
  "varInspector": {
   "cols": {
    "lenName": 16,
    "lenType": 16,
    "lenVar": 40
   },
   "kernels_config": {
    "python": {
     "delete_cmd_postfix": "",
     "delete_cmd_prefix": "del ",
     "library": "var_list.py",
     "varRefreshCmd": "print(var_dic_list())"
    },
    "r": {
     "delete_cmd_postfix": ") ",
     "delete_cmd_prefix": "rm(",
     "library": "var_list.r",
     "varRefreshCmd": "cat(var_dic_list()) "
    }
   },
   "types_to_exclude": [
    "module",
    "function",
    "builtin_function_or_method",
    "instance",
    "_Feature"
   ],
   "window_display": false
  }
 },
 "nbformat": 4,
 "nbformat_minor": 2
}
